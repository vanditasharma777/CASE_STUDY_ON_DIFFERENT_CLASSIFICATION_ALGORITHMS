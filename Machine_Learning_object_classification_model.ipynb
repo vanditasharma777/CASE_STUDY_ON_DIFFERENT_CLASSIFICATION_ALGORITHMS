{
  "nbformat": 4,
  "nbformat_minor": 0,
  "metadata": {
    "colab": {
      "name": "Machine_Learning_object_classification_model",
      "provenance": [],
      "collapsed_sections": [],
      "authorship_tag": "ABX9TyPbYB6qrX3WIK0qblG2Jqer",
      "include_colab_link": true
    },
    "kernelspec": {
      "name": "python3",
      "display_name": "Python 3"
    },
    "accelerator": "GPU"
  },
  "cells": [
    {
      "cell_type": "markdown",
      "metadata": {
        "id": "view-in-github",
        "colab_type": "text"
      },
      "source": [
        "<a href=\"https://colab.research.google.com/github/vanditasharma777/CASE_STUDY_ON_DIFFERENT_CLASSIFICATION_ALGORITHMS/blob/master/Machine_Learning_object_classification_model.ipynb\" target=\"_parent\"><img src=\"https://colab.research.google.com/assets/colab-badge.svg\" alt=\"Open In Colab\"/></a>"
      ]
    },
    {
      "cell_type": "code",
      "metadata": {
        "id": "gxJ-FVr4x2uF",
        "colab_type": "code",
        "colab": {
          "base_uri": "https://localhost:8080/",
          "height": 34
        },
        "outputId": "971270a2-5130-4d21-d277-6058d2a15336"
      },
      "source": [
        "# importing Libraries\n",
        "import sklearn\n",
        "import numpy as np\n",
        "import pandas as pd\n",
        "from matplotlib import pyplot as plt\n",
        "from sklearn.metrics import confusion_matrix, classification_report, accuracy_score\n",
        "from tensorflow.keras.datasets import mnist\n",
        "from tensorflow.keras.datasets import cifar10\n",
        "from sklearn.neighbors import KNeighborsClassifier\n",
        "from sklearn.svm import SVC\n",
        "from sklearn.naive_bayes import GaussianNB\n",
        "from sklearn.tree import DecisionTreeClassifier\n",
        "from sklearn.ensemble import RandomForestClassifier\n",
        "import keras.backend as k"
      ],
      "execution_count": null,
      "outputs": [
        {
          "output_type": "stream",
          "text": [
            "Using TensorFlow backend.\n"
          ],
          "name": "stderr"
        }
      ]
    },
    {
      "cell_type": "code",
      "metadata": {
        "id": "UWv6cIF5cuSU",
        "colab_type": "code",
        "colab": {
          "base_uri": "https://localhost:8080/",
          "height": 68
        },
        "outputId": "ba941f32-6d49-49a3-b97e-d36a61d98fce"
      },
      "source": [
        "(x_train, y_train), (x_test, y_test) = mnist.load_data()\n",
        "print('x_train shape:', x_train.shape)\n",
        "print(x_train.shape[0], 'train samples')\n",
        "print(x_test.shape[0], 'test samples')"
      ],
      "execution_count": null,
      "outputs": [
        {
          "output_type": "stream",
          "text": [
            "x_train shape: (60000, 28, 28)\n",
            "60000 train samples\n",
            "10000 test samples\n"
          ],
          "name": "stdout"
        }
      ]
    },
    {
      "cell_type": "code",
      "metadata": {
        "id": "0skqpOifeVFC",
        "colab_type": "code",
        "colab": {}
      },
      "source": [
        "x_train = x_train.astype('float32')\n",
        "x_test = x_test.astype('float32')\n",
        "x_train = x_train / 255.0\n",
        "x_test = x_test / 255.0"
      ],
      "execution_count": null,
      "outputs": []
    },
    {
      "cell_type": "code",
      "metadata": {
        "id": "Kmh65fz6ejhX",
        "colab_type": "code",
        "colab": {}
      },
      "source": [
        "x_train = x_train.flatten().reshape(x_train.shape[0], x_train.shape[1]*x_train.shape[2])\n",
        "x_test = x_test.flatten().reshape(x_test.shape[0],x_test.shape[1]*x_test.shape[2])"
      ],
      "execution_count": null,
      "outputs": []
    },
    {
      "cell_type": "code",
      "metadata": {
        "id": "AKyR4CoWe1_l",
        "colab_type": "code",
        "colab": {
          "base_uri": "https://localhost:8080/",
          "height": 561
        },
        "outputId": "42902296-2f3a-4d09-b348-8e0d9ca403e1"
      },
      "source": [
        "#Using KNN for image classification\n",
        "knn = KNeighborsClassifier(n_neighbors=7, metric='euclidean',n_jobs=-1)\n",
        "knn.fit(x_train, y_train.ravel())\n",
        "# Testing with KNN\n",
        "y_pred_knn = knn.predict(x_test)\n",
        "# confusion matrix \n",
        "print(\"Confusion matrix:\")\n",
        "print(confusion_matrix(y_test.ravel(),y_pred_knn))\n",
        "# Classification report\n",
        "print(\"Classification report:\")\n",
        "print(classification_report(y_test.ravel(),y_pred_knn))\n",
        "#accuracy score \n",
        "print(\"Accuracy Score:\")\n",
        "print(\"Accuracy: \")\n",
        "print(accuracy_score(y_pred_knn, y_test.ravel()))"
      ],
      "execution_count": null,
      "outputs": [
        {
          "output_type": "stream",
          "text": [
            "Confusion matrix:\n",
            "[[ 974    1    1    0    0    1    2    1    0    0]\n",
            " [   0 1133    2    0    0    0    0    0    0    0]\n",
            " [  11    8  988    2    1    0    2   16    4    0]\n",
            " [   0    3    2  976    1   12    1    7    4    4]\n",
            " [   1    8    0    0  945    0    5    1    1   21]\n",
            " [   5    0    0    8    2  866    4    1    2    4]\n",
            " [   6    3    0    0    3    2  944    0    0    0]\n",
            " [   0   25    3    0    1    0    0  989    0   10]\n",
            " [   6    4    6   11    7   12    1    6  916    5]\n",
            " [   5    6    3    6    8    4    1   11    2  963]]\n",
            "Classification report:\n",
            "              precision    recall  f1-score   support\n",
            "\n",
            "           0       0.97      0.99      0.98       980\n",
            "           1       0.95      1.00      0.97      1135\n",
            "           2       0.98      0.96      0.97      1032\n",
            "           3       0.97      0.97      0.97      1010\n",
            "           4       0.98      0.96      0.97       982\n",
            "           5       0.97      0.97      0.97       892\n",
            "           6       0.98      0.99      0.98       958\n",
            "           7       0.96      0.96      0.96      1028\n",
            "           8       0.99      0.94      0.96       974\n",
            "           9       0.96      0.95      0.96      1009\n",
            "\n",
            "    accuracy                           0.97     10000\n",
            "   macro avg       0.97      0.97      0.97     10000\n",
            "weighted avg       0.97      0.97      0.97     10000\n",
            "\n",
            "Accuracy Score:\n",
            "Accuracy: \n",
            "0.9694\n"
          ],
          "name": "stdout"
        }
      ]
    },
    {
      "cell_type": "code",
      "metadata": {
        "id": "fWzqSUBcgjCd",
        "colab_type": "code",
        "colab": {
          "base_uri": "https://localhost:8080/",
          "height": 578
        },
        "outputId": "f81f6d1d-d0fd-4c9e-977a-983345ade50a"
      },
      "source": [
        "# using svm for image classification\n",
        "svclassifier = SVC(kernel='rbf')\n",
        "print(\"Train model\")\n",
        "svclassifier.fit(x_train, y_train.ravel())\n",
        "print(\"Compute predictions\")\n",
        "#predicting on test set\n",
        "y_pred = svclassifier.predict(x_test)\n",
        "# confusion matrix \n",
        "print(\"Confusion matrix:\")\n",
        "print(confusion_matrix(y_pred,y_test.ravel()))\n",
        "# Classification report\n",
        "print(\"Classification report:\")\n",
        "print(classification_report(y_pred,y_test.ravel()))\n",
        "#accuracy score \n",
        "print(\"Accuracy Score:\")\n",
        "print(accuracy_score(y_pred, y_test.ravel()))"
      ],
      "execution_count": null,
      "outputs": [
        {
          "output_type": "stream",
          "text": [
            "Train model\n",
            "Compute predictions\n",
            "Confusion matrix:\n",
            "[[ 973    0    6    0    0    2    6    0    3    3]\n",
            " [   0 1126    1    0    0    0    2    6    0    4]\n",
            " [   1    3 1006    2    5    0    0   11    2    1]\n",
            " [   0    1    2  995    0    9    0    1    6    7]\n",
            " [   0    0    1    0  961    0    2    1    3   10]\n",
            " [   2    1    0    2    0  871    3    0    2    2]\n",
            " [   1    1    2    0    3    4  944    0    2    1]\n",
            " [   1    1    7    5    0    1    0  996    3    7]\n",
            " [   2    2    6    5    2    4    1    2  950    4]\n",
            " [   0    0    1    1   11    1    0   11    3  970]]\n",
            "Classification report:\n",
            "              precision    recall  f1-score   support\n",
            "\n",
            "           0       0.99      0.98      0.99       993\n",
            "           1       0.99      0.99      0.99      1139\n",
            "           2       0.97      0.98      0.98      1031\n",
            "           3       0.99      0.97      0.98      1021\n",
            "           4       0.98      0.98      0.98       978\n",
            "           5       0.98      0.99      0.98       883\n",
            "           6       0.99      0.99      0.99       958\n",
            "           7       0.97      0.98      0.97      1021\n",
            "           8       0.98      0.97      0.97       978\n",
            "           9       0.96      0.97      0.97       998\n",
            "\n",
            "    accuracy                           0.98     10000\n",
            "   macro avg       0.98      0.98      0.98     10000\n",
            "weighted avg       0.98      0.98      0.98     10000\n",
            "\n",
            "Accuracy Score:\n",
            "0.9792\n"
          ],
          "name": "stdout"
        }
      ]
    },
    {
      "cell_type": "code",
      "metadata": {
        "id": "52n0d1g9kXeN",
        "colab_type": "code",
        "colab": {
          "base_uri": "https://localhost:8080/",
          "height": 578
        },
        "outputId": "16848971-2b4f-4472-dfb9-8d4ca35102fe"
      },
      "source": [
        "# Using Naive Bayes for image classification\n",
        "model = GaussianNB()\n",
        "df# Train the model using the training sets\n",
        "print(\"Train model\")\n",
        "model.fit(x_train,y_train.ravel())\n",
        "#Predict Output\n",
        "print(\"Compute predictions\")\n",
        "predicted= model.predict(x_test)\n",
        "# classification report\n",
        "print(\"Classification Report\")\n",
        "print(classification_report(predicted,y_test.ravel()))\n",
        "# confusion matrix\n",
        "print(\"Confusion Matrix\")\n",
        "print(confusion_matrix(predicted,y_test.ravel()))\n",
        "# accuracy score\n",
        "print(\"Accuracy Score\")\n",
        "print(accuracy_score(predicted,y_test.ravel()))"
      ],
      "execution_count": null,
      "outputs": [
        {
          "output_type": "stream",
          "text": [
            "Train model\n",
            "Compute predictions\n",
            "Classification Report\n",
            "              precision    recall  f1-score   support\n",
            "\n",
            "           0       0.89      0.79      0.84      1101\n",
            "           1       0.95      0.85      0.90      1276\n",
            "           2       0.26      0.90      0.40       294\n",
            "           3       0.35      0.71      0.47       498\n",
            "           4       0.17      0.88      0.29       190\n",
            "           5       0.05      0.55      0.09        80\n",
            "           6       0.93      0.65      0.77      1377\n",
            "           7       0.27      0.88      0.42       319\n",
            "           8       0.67      0.28      0.40      2280\n",
            "           9       0.95      0.37      0.53      2585\n",
            "\n",
            "    accuracy                           0.56     10000\n",
            "   macro avg       0.55      0.69      0.51     10000\n",
            "weighted avg       0.78      0.56      0.59     10000\n",
            "\n",
            "Confusion Matrix\n",
            "[[ 870    0   79   32   19   71   12    0   13    5]\n",
            " [   0 1079   25   39    2   25   12   15   72    7]\n",
            " [   3    2  266    6    5    1    3    2    3    3]\n",
            " [   5    1   91  353    4   20    1   10    7    6]\n",
            " [   2    0    5    2  168    3    1    5    3    1]\n",
            " [   5    0    2    3    7   44    7    1   11    0]\n",
            " [  31   10  269   51   63   40  895    5   12    1]\n",
            " [   1    0    4    8    7    2    0  280    4   13]\n",
            " [  35   38  271  409  210  586   26   39  648   18]\n",
            " [  28    5   20  107  497  100    1  671  201  955]]\n",
            "Accuracy Score\n",
            "0.5558\n"
          ],
          "name": "stdout"
        }
      ]
    },
    {
      "cell_type": "code",
      "metadata": {
        "id": "6JG0BlBmlrxt",
        "colab_type": "code",
        "colab": {
          "base_uri": "https://localhost:8080/",
          "height": 578
        },
        "outputId": "c4c0b4ce-2c48-4c5e-c1ae-8c37ab8d7c23"
      },
      "source": [
        "# using Decision tree classifier for image classification\n",
        "dtf = DecisionTreeClassifier()\n",
        "print(\"Train model\")\n",
        "dtf.fit(x_train, y_train.ravel())\n",
        "print(\"Compute predictions\")\n",
        "predicted1 = dtf.predict(x_test)\n",
        "#Evaluation\n",
        "print(\"Confusion matrix\")\n",
        "print(confusion_matrix(predicted1,y_test.ravel()))\n",
        "print(\"Classification report\")\n",
        "print(classification_report(predicted1,y_test.ravel()))\n",
        "print(\"Accuracy: \")\n",
        "print(accuracy_score(predicted1, y_test.ravel()))"
      ],
      "execution_count": null,
      "outputs": [
        {
          "output_type": "stream",
          "text": [
            "Train model\n",
            "Compute predictions\n",
            "Confusion matrix\n",
            "[[ 918    2   13    8    4   13   17    2   15   14]\n",
            " [   0 1092    8    3    2    9    4   12    5    4]\n",
            " [   6   12  884   31    9    5   12   27   29    8]\n",
            " [   6    2   33  863    4   45    7   15   33   25]\n",
            " [   6    2   17    7  866    9   19    9   23   40]\n",
            " [  11    3   15   45    7  742   25    4   21   12]\n",
            " [  13    6    8    7   13   20  845    1   18    8]\n",
            " [   2    5   22   10   10    6    1  925    8   19]\n",
            " [   9   10   25   22   21   24   26    8  798   22]\n",
            " [   9    1    7   14   46   19    2   25   24  857]]\n",
            "Classification report\n",
            "              precision    recall  f1-score   support\n",
            "\n",
            "           0       0.94      0.91      0.92      1006\n",
            "           1       0.96      0.96      0.96      1139\n",
            "           2       0.86      0.86      0.86      1023\n",
            "           3       0.85      0.84      0.84      1033\n",
            "           4       0.88      0.87      0.87       998\n",
            "           5       0.83      0.84      0.84       885\n",
            "           6       0.88      0.90      0.89       939\n",
            "           7       0.90      0.92      0.91      1008\n",
            "           8       0.82      0.83      0.82       965\n",
            "           9       0.85      0.85      0.85      1004\n",
            "\n",
            "    accuracy                           0.88     10000\n",
            "   macro avg       0.88      0.88      0.88     10000\n",
            "weighted avg       0.88      0.88      0.88     10000\n",
            "\n",
            "Accuracy: \n",
            "0.879\n"
          ],
          "name": "stdout"
        }
      ]
    },
    {
      "cell_type": "code",
      "metadata": {
        "id": "f6zS6Me0lxf7",
        "colab_type": "code",
        "colab": {
          "base_uri": "https://localhost:8080/",
          "height": 578
        },
        "outputId": "81f4917a-671b-4bec-b2e4-58c29810ca22"
      },
      "source": [
        "# Using Random forest classifier for image classification\n",
        "clf = RandomForestClassifier()\n",
        "print(\"Train model\")\n",
        "clf.fit(x_train, y_train.ravel())\n",
        "print(\"Compute predictions\")\n",
        "predicted = clf.predict(x_test)\n",
        "#Evaluation\n",
        "print(\"Confusion matrix\")\n",
        "print(confusion_matrix(predicted,y_test.ravel()))\n",
        "print(\"Classification report\")\n",
        "print(classification_report(predicted,y_test.ravel()))\n",
        "print(\"Accuracy: \")\n",
        "print(accuracy_score(predicted, y_test.ravel()))"
      ],
      "execution_count": null,
      "outputs": [
        {
          "output_type": "stream",
          "text": [
            "Train model\n",
            "Compute predictions\n",
            "Confusion matrix\n",
            "[[ 972    0    5    0    1    2    7    1    3    6]\n",
            " [   0 1123    0    0    0    0    3    2    0    5]\n",
            " [   0    1  999    9    1    1    0   19    6    2]\n",
            " [   0    4    6  974    0   14    0    0    7    8]\n",
            " [   0    0    3    0  959    4    3    1    4   14]\n",
            " [   2    2    1    4    0  858    4    0    5    2]\n",
            " [   2    3    4    0    5    5  939    0    4    1]\n",
            " [   1    0    9    9    0    2    0  992    4    6]\n",
            " [   2    1    5   10    2    5    2    3  933    7]\n",
            " [   1    1    0    4   14    1    0   10    8  958]]\n",
            "Classification report\n",
            "              precision    recall  f1-score   support\n",
            "\n",
            "           0       0.99      0.97      0.98       997\n",
            "           1       0.99      0.99      0.99      1133\n",
            "           2       0.97      0.96      0.97      1038\n",
            "           3       0.96      0.96      0.96      1013\n",
            "           4       0.98      0.97      0.97       988\n",
            "           5       0.96      0.98      0.97       878\n",
            "           6       0.98      0.98      0.98       963\n",
            "           7       0.96      0.97      0.97      1023\n",
            "           8       0.96      0.96      0.96       970\n",
            "           9       0.95      0.96      0.96       997\n",
            "\n",
            "    accuracy                           0.97     10000\n",
            "   macro avg       0.97      0.97      0.97     10000\n",
            "weighted avg       0.97      0.97      0.97     10000\n",
            "\n",
            "Accuracy: \n",
            "0.9707\n"
          ],
          "name": "stdout"
        }
      ]
    },
    {
      "cell_type": "markdown",
      "metadata": {
        "id": "5cDI5WaepfhY",
        "colab_type": "text"
      },
      "source": [
        "**CNN FOR MNIST DIGIT DATASET CLASSIFICATION**"
      ]
    },
    {
      "cell_type": "code",
      "metadata": {
        "id": "-6B_pQRBtdyF",
        "colab_type": "code",
        "colab": {
          "base_uri": "https://localhost:8080/",
          "height": 68
        },
        "outputId": "ca100a26-c942-4b91-f2cf-1fa75eb3e68f"
      },
      "source": [
        "import keras.backend as k\n",
        "img_rows,img_cols = 28,28\n",
        "#print the new label\n",
        "if k.image_data_format() == 'channels_first':\n",
        "    x_train = x_train.reshape(x_train.shape[0], 1, img_rows, img_cols)\n",
        "    x_test = x_test.reshape(x_test.shape[0], 1, img_rows, img_cols)\n",
        "    input_shape = (1, img_rows, img_cols)\n",
        "else:\n",
        "    x_train = x_train.reshape(x_train.shape[0], img_rows, img_cols, 1)\n",
        "    x_test = x_test.reshape(x_test.shape[0], img_rows, img_cols, 1)\n",
        "    input_shape = (img_rows, img_cols, 1)\n",
        "\n",
        "x_train = x_train.astype('float32')\n",
        "x_test = x_test.astype('float32')\n",
        "x_train /= 255\n",
        "x_test /= 255\n",
        "print('x_train shape:', x_train.shape)\n",
        "print(x_train.shape[0], 'train samples')\n",
        "print(x_test.shape[0], 'test samples')"
      ],
      "execution_count": null,
      "outputs": [
        {
          "output_type": "stream",
          "text": [
            "x_train shape: (60000, 28, 28, 1)\n",
            "60000 train samples\n",
            "10000 test samples\n"
          ],
          "name": "stdout"
        }
      ]
    },
    {
      "cell_type": "code",
      "metadata": {
        "id": "Y6szcrpI3E_z",
        "colab_type": "code",
        "colab": {}
      },
      "source": [
        "from keras.utils import np_utils\n",
        "# one-hot encode the labels\n",
        "y_train = np_utils.to_categorical(y_train, 10)\n",
        "y_test = np_utils.to_categorical(y_test, 10)"
      ],
      "execution_count": null,
      "outputs": []
    },
    {
      "cell_type": "code",
      "metadata": {
        "id": "y7kYafpdqE23",
        "colab_type": "code",
        "colab": {
          "base_uri": "https://localhost:8080/",
          "height": 34
        },
        "outputId": "2ce57024-46c8-4773-b943-b14dd1905492"
      },
      "source": [
        "y_test.shape,y_train.shape"
      ],
      "execution_count": null,
      "outputs": [
        {
          "output_type": "execute_result",
          "data": {
            "text/plain": [
              "((10000, 10), (60000, 10))"
            ]
          },
          "metadata": {
            "tags": []
          },
          "execution_count": 6
        }
      ]
    },
    {
      "cell_type": "code",
      "metadata": {
        "id": "It1tYJbes6vG",
        "colab_type": "code",
        "colab": {}
      },
      "source": [
        "from keras.applications.vgg16 import VGG16\n",
        "from keras.layers import Flatten,Dense,Dropout,Softmax,Conv2D, MaxPooling2D\n",
        "from keras.models import Sequential\n",
        "from keras.optimizers import Adam\n",
        "from keras.datasets import cifar10 \n"
      ],
      "execution_count": null,
      "outputs": []
    },
    {
      "cell_type": "code",
      "metadata": {
        "id": "bTC8yRROsipq",
        "colab_type": "code",
        "colab": {
          "base_uri": "https://localhost:8080/",
          "height": 459
        },
        "outputId": "9b1ac3e9-1e1e-4f19-8cf0-6cbc3e3ffa84"
      },
      "source": [
        "# Build the CNN model\n",
        "import keras\n",
        "num_classes=10\n",
        "batch_size=128\n",
        "epochs=12\n",
        "model = keras.models.Sequential()\n",
        "model = Sequential()\n",
        "model.add(Conv2D(32, kernel_size=(3, 3),activation='relu',input_shape=input_shape))\n",
        "model.add(Conv2D(64, (3, 3), activation='relu'))\n",
        "model.add(MaxPooling2D(pool_size=(2, 2)))\n",
        "model.add(Dropout(0.25))\n",
        "model.add(Flatten())\n",
        "model.add(Dense(128, activation='relu'))\n",
        "model.add(Dropout(0.5))\n",
        "model.add(Dense(num_classes, activation='softmax'))\n",
        "model.compile(loss=keras.losses.categorical_crossentropy,optimizer=keras.optimizers.Adadelta(),metrics=['accuracy'])\n",
        "model.fit(x_train, y_train, batch_size=batch_size,epochs=epochs,verbose=1,validation_data=(x_test, y_test))                                                                                                                                                                                                                                                                                                                                                                                                                                                                                                                                                                                                                                                                                                                                                                                                                                                                                                                                                                                                                                                                                                                                                                                                                                                                                                                                                                                                                                                                                                                                                                                                                                                                                                                                                                                                                                                                                                                                                                                                      \n",
        "           "
      ],
      "execution_count": null,
      "outputs": [
        {
          "output_type": "stream",
          "text": [
            "Train on 60000 samples, validate on 10000 samples\n",
            "Epoch 1/12\n",
            "60000/60000 [==============================] - 143s 2ms/step - loss: 0.2718 - accuracy: 0.9169 - val_loss: 0.0577 - val_accuracy: 0.9819\n",
            "Epoch 2/12\n",
            "60000/60000 [==============================] - 142s 2ms/step - loss: 0.0900 - accuracy: 0.9728 - val_loss: 0.0405 - val_accuracy: 0.9863\n",
            "Epoch 3/12\n",
            "60000/60000 [==============================] - 142s 2ms/step - loss: 0.0681 - accuracy: 0.9797 - val_loss: 0.0337 - val_accuracy: 0.9882\n",
            "Epoch 4/12\n",
            "60000/60000 [==============================] - 142s 2ms/step - loss: 0.0557 - accuracy: 0.9831 - val_loss: 0.0328 - val_accuracy: 0.9888\n",
            "Epoch 5/12\n",
            "60000/60000 [==============================] - 142s 2ms/step - loss: 0.0465 - accuracy: 0.9862 - val_loss: 0.0274 - val_accuracy: 0.9912\n",
            "Epoch 6/12\n",
            "60000/60000 [==============================] - 142s 2ms/step - loss: 0.0430 - accuracy: 0.9870 - val_loss: 0.0284 - val_accuracy: 0.9906\n",
            "Epoch 7/12\n",
            "60000/60000 [==============================] - 142s 2ms/step - loss: 0.0391 - accuracy: 0.9884 - val_loss: 0.0295 - val_accuracy: 0.9893\n",
            "Epoch 8/12\n",
            "60000/60000 [==============================] - 142s 2ms/step - loss: 0.0342 - accuracy: 0.9893 - val_loss: 0.0276 - val_accuracy: 0.9908\n",
            "Epoch 9/12\n",
            "60000/60000 [==============================] - 142s 2ms/step - loss: 0.0317 - accuracy: 0.9900 - val_loss: 0.0295 - val_accuracy: 0.9904\n",
            "Epoch 10/12\n",
            "60000/60000 [==============================] - 142s 2ms/step - loss: 0.0291 - accuracy: 0.9911 - val_loss: 0.0265 - val_accuracy: 0.9912\n",
            "Epoch 11/12\n",
            "60000/60000 [==============================] - 142s 2ms/step - loss: 0.0274 - accuracy: 0.9916 - val_loss: 0.0281 - val_accuracy: 0.9912\n",
            "Epoch 12/12\n",
            "60000/60000 [==============================] - 142s 2ms/step - loss: 0.0258 - accuracy: 0.9918 - val_loss: 0.0264 - val_accuracy: 0.9926\n"
          ],
          "name": "stdout"
        },
        {
          "output_type": "execute_result",
          "data": {
            "text/plain": [
              "<keras.callbacks.callbacks.History at 0x7f92b467fdd8>"
            ]
          },
          "metadata": {
            "tags": []
          },
          "execution_count": 8
        }
      ]
    },
    {
      "cell_type": "code",
      "metadata": {
        "id": "1edzG0etW3OJ",
        "colab_type": "code",
        "colab": {
          "base_uri": "https://localhost:8080/",
          "height": 51
        },
        "outputId": "dc99b0b1-84cd-4d25-b44f-f69039da9941"
      },
      "source": [
        "score = model.evaluate(x_test, y_test, verbose=0)                                              \n",
        "print('Test loss:', score[0])\n",
        "print('Test accuracy:', score[1])    "
      ],
      "execution_count": null,
      "outputs": [
        {
          "output_type": "stream",
          "text": [
            "Test loss: 0.026354128892004745\n",
            "Test accuracy: 0.9926000237464905\n"
          ],
          "name": "stdout"
        }
      ]
    },
    {
      "cell_type": "code",
      "metadata": {
        "id": "K_OqkxTNr_6_",
        "colab_type": "code",
        "colab": {
          "base_uri": "https://localhost:8080/",
          "height": 544
        },
        "outputId": "f5ee86b6-e419-4726-a642-6eb227ae1fbf"
      },
      "source": [
        "test_predictions = model.predict_classes(x_test, batch_size=128, verbose=0) \n",
        "import numpy as np\n",
        "rounded_labels=np.argmax(y_test, axis=1)\n",
        "rounded_labels[1]\n",
        "print(\"confusion matrix\")\n",
        "cm = confusion_matrix(rounded_labels, test_predictions)\n",
        "print(cm)\n",
        "print(\"classification report:\")\n",
        "print(classification_report(rounded_labels, test_predictions, target_names= None))\n",
        "print(\"Accuracy score:\")\n",
        "print(accuracy_score(rounded_labels,test_predictions))"
      ],
      "execution_count": null,
      "outputs": [
        {
          "output_type": "stream",
          "text": [
            "confusion matrix\n",
            "[[ 978    0    0    0    0    0    0    1    1    0]\n",
            " [   0 1134    1    0    0    0    0    0    0    0]\n",
            " [   1    1 1024    0    1    0    1    4    0    0]\n",
            " [   0    0    2 1005    0    2    0    0    1    0]\n",
            " [   0    0    0    0  978    0    1    0    0    3]\n",
            " [   2    0    0    7    0  881    2    0    0    0]\n",
            " [   5    3    0    0    1    1  947    0    1    0]\n",
            " [   0    3    5    0    0    0    0 1016    1    3]\n",
            " [   4    0    1    1    0    0    0    0  966    2]\n",
            " [   0    1    0    1    4    3    0    1    2  997]]\n",
            "classification report:\n",
            "              precision    recall  f1-score   support\n",
            "\n",
            "           0       0.99      1.00      0.99       980\n",
            "           1       0.99      1.00      1.00      1135\n",
            "           2       0.99      0.99      0.99      1032\n",
            "           3       0.99      1.00      0.99      1010\n",
            "           4       0.99      1.00      0.99       982\n",
            "           5       0.99      0.99      0.99       892\n",
            "           6       1.00      0.99      0.99       958\n",
            "           7       0.99      0.99      0.99      1028\n",
            "           8       0.99      0.99      0.99       974\n",
            "           9       0.99      0.99      0.99      1009\n",
            "\n",
            "    accuracy                           0.99     10000\n",
            "   macro avg       0.99      0.99      0.99     10000\n",
            "weighted avg       0.99      0.99      0.99     10000\n",
            "\n",
            "Accuracy score:\n",
            "0.9926\n"
          ],
          "name": "stdout"
        }
      ]
    },
    {
      "cell_type": "markdown",
      "metadata": {
        "id": "coCwnEbKTioe",
        "colab_type": "text"
      },
      "source": [
        "# **FOR CIFAR10 DATASET**"
      ]
    },
    {
      "cell_type": "code",
      "metadata": {
        "id": "MJ9lRUliTsC2",
        "colab_type": "code",
        "colab": {}
      },
      "source": [
        "import pandas as pd\n",
        "from tensorflow.keras.datasets import cifar10\n",
        "from sklearn.metrics import classification_report, confusion_matrix,accuracy_score\n",
        "from sklearn.preprocessing import StandardScaler\n",
        "from sklearn.neighbors import KNeighborsClassifier\n",
        "from sklearn.model_selection import train_test_split\n",
        "from sklearn.svm import SVC\n",
        "from sklearn.naive_bayes import GaussianNB\n",
        "from sklearn.tree import DecisionTreeClassifier\n",
        "from sklearn.ensemble import RandomForestClassifier"
      ],
      "execution_count": 1,
      "outputs": []
    },
    {
      "cell_type": "code",
      "metadata": {
        "id": "4LUR1sRcVQXR",
        "colab_type": "code",
        "colab": {
          "base_uri": "https://localhost:8080/",
          "height": 102
        },
        "outputId": "75ff31f3-b543-4382-ffcc-b6e136fbc478"
      },
      "source": [
        "#provide dataset\n",
        "(X_train, Y_train), (X_test, Y_test) = cifar10.load_data()\n",
        "print('x_train shape:', X_train.shape)\n",
        "print(X_train.shape[0], 'train samples')\n",
        "print(X_test.shape[0], 'test samples')\n"
      ],
      "execution_count": 2,
      "outputs": [
        {
          "output_type": "stream",
          "text": [
            "Downloading data from https://www.cs.toronto.edu/~kriz/cifar-10-python.tar.gz\n",
            "170500096/170498071 [==============================] - 6s 0us/step\n",
            "x_train shape: (50000, 32, 32, 3)\n",
            "50000 train samples\n",
            "10000 test samples\n"
          ],
          "name": "stdout"
        }
      ]
    },
    {
      "cell_type": "code",
      "metadata": {
        "id": "YViiMJVbVXSG",
        "colab_type": "code",
        "colab": {}
      },
      "source": [
        "X_train = X_train.astype('float32')                                                                                                                    \n",
        "X_test = X_test.astype('float32')\n",
        "X_train = X_train / 255.0\n",
        "X_test = X_test / 255.0"
      ],
      "execution_count": null,
      "outputs": []
    },
    {
      "cell_type": "code",
      "metadata": {
        "id": "UQ2aiT6FVeTE",
        "colab_type": "code",
        "colab": {}
      },
      "source": [
        "X_train = X_train.flatten().reshape(X_train.shape[0], X_train.shape[1]*X_train.shape[2]*X_train.shape[3])\n",
        "X_test = X_test.flatten().reshape(X_test.shape[0],X_test.shape[1]*X_test.shape[2]*X_test.shape[3])"
      ],
      "execution_count": null,
      "outputs": []
    },
    {
      "cell_type": "code",
      "metadata": {
        "id": "AeOC6QjZVmF_",
        "colab_type": "code",
        "colab": {
          "base_uri": "https://localhost:8080/",
          "height": 306
        },
        "outputId": "39975b8a-3714-4e1e-edd0-ad9cff29a752"
      },
      "source": [
        "#Using KNN for image classification\n",
        "knn = KNeighborsClassifier(n_neighbors=7, metric='euclidean',n_jobs=-1)\n",
        "knn.fit(X_train, Y_train.ravel())\n",
        "# Testing with KNN\n",
        "y_pred_knn = knn.predict(X_test)\n",
        "#accuracy score \n",
        "print(classification_report(Y_test.ravel(),y_pred_knn))"
      ],
      "execution_count": null,
      "outputs": [
        {
          "output_type": "stream",
          "text": [
            "              precision    recall  f1-score   support\n",
            "\n",
            "           0       0.40      0.52      0.45      1000\n",
            "           1       0.70      0.20      0.30      1000\n",
            "           2       0.22      0.44      0.29      1000\n",
            "           3       0.28      0.20      0.23      1000\n",
            "           4       0.23      0.52      0.32      1000\n",
            "           5       0.40      0.20      0.27      1000\n",
            "           6       0.35      0.27      0.30      1000\n",
            "           7       0.70      0.20      0.31      1000\n",
            "           8       0.39      0.69      0.50      1000\n",
            "           9       0.73      0.14      0.23      1000\n",
            "\n",
            "    accuracy                           0.34     10000\n",
            "   macro avg       0.44      0.34      0.32     10000\n",
            "weighted avg       0.44      0.34      0.32     10000\n",
            "\n"
          ],
          "name": "stdout"
        }
      ]
    },
    {
      "cell_type": "code",
      "metadata": {
        "id": "XDEFcNS0ibzT",
        "colab_type": "code",
        "colab": {
          "base_uri": "https://localhost:8080/",
          "height": 187
        },
        "outputId": "ae47b9de-e051-48c5-bdbc-59544d4dd079"
      },
      "source": [
        "# confusion matrix \n",
        "print(confusion_matrix(Y_test.ravel(),y_pred_knn))"
      ],
      "execution_count": null,
      "outputs": [
        {
          "output_type": "stream",
          "text": [
            "[[518   7 118  12  46   5  30   5 255   4]\n",
            " [118 195 124  51 173  32  55   8 223  21]\n",
            " [110   2 437  50 250  24  65   7  53   2]\n",
            " [ 66   5 243 199 214 102 108  11  51   1]\n",
            " [ 60   0 268  33 521  14  44  11  48   1]\n",
            " [ 63   2 225 156 201 204  80  10  53   6]\n",
            " [ 22   1 271  56 319  32 265   1  32   1]\n",
            " [ 78   8 185  57 294  60  48 196  68   6]\n",
            " [112  10  47  34  69  12  14   7 688   7]\n",
            " [152  50  95  59 135  19  52  25 278 135]]\n"
          ],
          "name": "stdout"
        }
      ]
    },
    {
      "cell_type": "code",
      "metadata": {
        "id": "eombM39QVw6d",
        "colab_type": "code",
        "colab": {
          "base_uri": "https://localhost:8080/",
          "height": 34
        },
        "outputId": "aea9ac93-c092-4aee-9f4f-2c580b3695fc"
      },
      "source": [
        "result2=accuracy_score(Y_test,y_pred_knn)\n",
        "print(\"Accuracy:\",result2)"
      ],
      "execution_count": null,
      "outputs": [
        {
          "output_type": "stream",
          "text": [
            "Accuracy: 0.3358\n"
          ],
          "name": "stdout"
        }
      ]
    },
    {
      "cell_type": "code",
      "metadata": {
        "id": "OW5hp3n9WJ8M",
        "colab_type": "code",
        "colab": {
          "base_uri": "https://localhost:8080/",
          "height": 510
        },
        "outputId": "30fa4882-533d-4e27-f9b8-d93ea398570d"
      },
      "source": [
        "#Create a Gaussian Classifier\n",
        "model = GaussianNB()\n",
        "\n",
        "# Train the model using the training sets\n",
        "model.fit(X_train,Y_train.ravel())\n",
        "\n",
        "#Predict Output\n",
        "predicted= model.predict(X_test)\n",
        "\n",
        "print(\"classification report\")\n",
        "print(classification_report(predicted,Y_test.ravel()))\n",
        "\n",
        "print(\"confusion matrix\")\n",
        "confusion_matrix(predicted,Y_test.ravel())\n"
      ],
      "execution_count": null,
      "outputs": [
        {
          "output_type": "stream",
          "text": [
            "classification report\n",
            "              precision    recall  f1-score   support\n",
            "\n",
            "           0       0.49      0.27      0.35      1817\n",
            "           1       0.17      0.41      0.24       405\n",
            "           2       0.08      0.19      0.12       443\n",
            "           3       0.08      0.25      0.12       305\n",
            "           4       0.42      0.24      0.30      1737\n",
            "           5       0.26      0.31      0.29       840\n",
            "           6       0.47      0.25      0.33      1846\n",
            "           7       0.13      0.42      0.20       310\n",
            "           8       0.47      0.39      0.42      1219\n",
            "           9       0.41      0.38      0.39      1078\n",
            "\n",
            "    accuracy                           0.30     10000\n",
            "   macro avg       0.30      0.31      0.28     10000\n",
            "weighted avg       0.39      0.30      0.32     10000\n",
            "\n",
            "confusion matrix\n"
          ],
          "name": "stdout"
        },
        {
          "output_type": "execute_result",
          "data": {
            "text/plain": [
              "array([[494, 141, 225, 163,  86, 156, 106, 134, 168, 144],\n",
              "       [ 20, 166,  24,  36,   8,  17,   2,  24,  41,  67],\n",
              "       [ 39,  24,  83,  54,  57,  55,  60,  36,  18,  17],\n",
              "       [ 10,  31,  15,  76,  26,  51,  18,  41,  17,  20],\n",
              "       [ 84,  66, 292, 151, 417, 167, 228, 228,  56,  48],\n",
              "       [ 34,  72,  48, 129,  38, 264,  46,  94,  83,  32],\n",
              "       [ 50, 192, 209, 262, 265, 159, 467, 102,  39, 101],\n",
              "       [  9,  19,  21,  26,  22,  36,  15, 131,   8,  23],\n",
              "       [200, 121,  54,  34,  50,  57,  19,  72, 471, 141],\n",
              "       [ 60, 168,  29,  69,  31,  38,  39, 138,  99, 407]])"
            ]
          },
          "metadata": {
            "tags": []
          },
          "execution_count": 6
        }
      ]
    },
    {
      "cell_type": "code",
      "metadata": {
        "id": "zCvRgTi4H7eQ",
        "colab_type": "code",
        "colab": {
          "base_uri": "https://localhost:8080/",
          "height": 51
        },
        "outputId": "5dc90d82-de7f-4fee-dd6a-f7b2aa4ba425"
      },
      "source": [
        "print(\"Accuracy: \")\n",
        "print(accuracy_score(predicted, Y_test.ravel()))"
      ],
      "execution_count": null,
      "outputs": [
        {
          "output_type": "stream",
          "text": [
            "Accuracy: \n",
            "0.2976\n"
          ],
          "name": "stdout"
        }
      ]
    },
    {
      "cell_type": "code",
      "metadata": {
        "id": "3_flb7UAXDyh",
        "colab_type": "code",
        "colab": {
          "base_uri": "https://localhost:8080/",
          "height": 544
        },
        "outputId": "0e3a5cfc-06de-4624-b40f-c5526a92db4b"
      },
      "source": [
        "rtc = RandomForestClassifier()\n",
        "print(\"Train model\")\n",
        "rtc.fit(X_train, Y_train.ravel())\n",
        "print(\"Compute predictions\")\n",
        "r_pred = rtc.predict(X_test)\n",
        "#Evaluation\n",
        "print(\"Confusion matrix\")\n",
        "print(confusion_matrix(r_pred,Y_test.ravel()))\n",
        "print(\"Classification report\")\n",
        "print(classification_report(r_pred,Y_test.ravel()))"
      ],
      "execution_count": null,
      "outputs": [
        {
          "output_type": "stream",
          "text": [
            "Train model\n",
            "Compute predictions\n",
            "Confusion matrix\n",
            "[[565  35 102  49  55  37   7  52  91  50]\n",
            " [ 46 540  45  48  22  33  41  54  85 159]\n",
            " [ 57  15 336  81 146  82  78  48  17  18]\n",
            " [ 20  41  78 281  53 150  66  49  33  28]\n",
            " [ 39  20 153  75 391  73 106 102  21  18]\n",
            " [ 14  27  62 184  45 385  61  79  28  22]\n",
            " [ 15  41 113 131 148  93 566  50  12  21]\n",
            " [ 22  35  58  57  94  90  26 459  19  38]\n",
            " [159  66  24  29  24  23   8  26 615  74]\n",
            " [ 63 180  29  65  22  34  41  81  79 572]]\n",
            "Classification report\n",
            "              precision    recall  f1-score   support\n",
            "\n",
            "           0       0.56      0.54      0.55      1043\n",
            "           1       0.54      0.50      0.52      1073\n",
            "           2       0.34      0.38      0.36       878\n",
            "           3       0.28      0.35      0.31       799\n",
            "           4       0.39      0.39      0.39       998\n",
            "           5       0.39      0.42      0.40       907\n",
            "           6       0.57      0.48      0.52      1190\n",
            "           7       0.46      0.51      0.48       898\n",
            "           8       0.61      0.59      0.60      1048\n",
            "           9       0.57      0.49      0.53      1166\n",
            "\n",
            "    accuracy                           0.47     10000\n",
            "   macro avg       0.47      0.47      0.47     10000\n",
            "weighted avg       0.48      0.47      0.48     10000\n",
            "\n"
          ],
          "name": "stdout"
        }
      ]
    },
    {
      "cell_type": "code",
      "metadata": {
        "id": "_6zIZXgaXLYI",
        "colab_type": "code",
        "colab": {
          "base_uri": "https://localhost:8080/",
          "height": 51
        },
        "outputId": "723bbcad-f840-41fb-8fda-309ecd322378"
      },
      "source": [
        "print(\"Accuracy: \")\n",
        "print(accuracy_score(r_pred, Y_test.ravel()))"
      ],
      "execution_count": null,
      "outputs": [
        {
          "output_type": "stream",
          "text": [
            "Accuracy: \n",
            "0.471\n"
          ],
          "name": "stdout"
        }
      ]
    },
    {
      "cell_type": "code",
      "metadata": {
        "id": "xgPZDfSzXMl0",
        "colab_type": "code",
        "colab": {
          "base_uri": "https://localhost:8080/",
          "height": 578
        },
        "outputId": "152021d0-679e-42ae-f58c-85531079de53"
      },
      "source": [
        "dtf1 = DecisionTreeClassifier()\n",
        "print(\"Train model\")\n",
        "dtf1.fit(X_train, Y_train.ravel())\n",
        "print(\"Compute predictions\")\n",
        "predicted2 = dtf1.predict(X_test)\n",
        "#Evaluation\n",
        "print(\"Confusion matrix\")\n",
        "print(confusion_matrix(predicted2,Y_test.ravel()))\n",
        "print(\"Classification report\")\n",
        "print(classification_report(predicted2,Y_test.ravel()))\n",
        "print(\"Accuracy: \")\n",
        "print(accuracy_score(predicted2, Y_test.ravel()))"
      ],
      "execution_count": null,
      "outputs": [
        {
          "output_type": "stream",
          "text": [
            "Train model\n",
            "Compute predictions\n",
            "Confusion matrix\n",
            "[[343  74 101  68  65  44  48  76 138  97]\n",
            " [ 80 263  46  48  47  56  52  74 102 161]\n",
            " [ 81  63 200 116 150 105 113  88  48  45]\n",
            " [ 48  84 101 188  78 160 130  93  54  76]\n",
            " [ 50  60 148 106 235  89 150  94  50  45]\n",
            " [ 56  52 113 141 107 232  92 106  43  61]\n",
            " [ 42  45 109 125 118  95 275  62  26  51]\n",
            " [ 72  70  87  97 108  98  61 277  40  84]\n",
            " [147 122  41  58  41  62  26  58 391 101]\n",
            " [ 81 167  54  53  51  59  53  72 108 279]]\n",
            "Classification report\n",
            "              precision    recall  f1-score   support\n",
            "\n",
            "           0       0.34      0.33      0.33      1054\n",
            "           1       0.26      0.28      0.27       929\n",
            "           2       0.20      0.20      0.20      1009\n",
            "           3       0.19      0.19      0.19      1012\n",
            "           4       0.23      0.23      0.23      1027\n",
            "           5       0.23      0.23      0.23      1003\n",
            "           6       0.28      0.29      0.28       948\n",
            "           7       0.28      0.28      0.28       994\n",
            "           8       0.39      0.37      0.38      1047\n",
            "           9       0.28      0.29      0.28       977\n",
            "\n",
            "    accuracy                           0.27     10000\n",
            "   macro avg       0.27      0.27      0.27     10000\n",
            "weighted avg       0.27      0.27      0.27     10000\n",
            "\n",
            "Accuracy: \n",
            "0.2683\n"
          ],
          "name": "stdout"
        }
      ]
    },
    {
      "cell_type": "code",
      "metadata": {
        "id": "k2WHkW5ZetPh",
        "colab_type": "code",
        "colab": {
          "base_uri": "https://localhost:8080/",
          "height": 51
        },
        "outputId": "8df00102-4c49-4305-9d5c-e5df1f039290"
      },
      "source": [
        "#Taking subset of data 20000 samples out of 50000 for training\n",
        "X_train = X_train[20000:40000,:,:,:]\n",
        "print(X_train.shape)\n",
        "\n",
        "#Taking 5000 samples out of 10000 for testing\n",
        "X_test = X_test[5000:10000,:,:,:]\n",
        "print(X_test.shape)\n",
        "\n",
        "#Taking sample from Target label dataset\n",
        "Y_train = Y_train[20000:40000,:]\n",
        "Y_test = Y_test[5000:10000,:]"
      ],
      "execution_count": 3,
      "outputs": [
        {
          "output_type": "stream",
          "text": [
            "(20000, 32, 32, 3)\n",
            "(5000, 32, 32, 3)\n"
          ],
          "name": "stdout"
        }
      ]
    },
    {
      "cell_type": "code",
      "metadata": {
        "id": "4jcT7DCi9dZq",
        "colab_type": "code",
        "colab": {}
      },
      "source": [
        "# Normalizing the data\n",
        "X_train = X_train.astype('float32')\n",
        "X_test = X_test.astype('float32')\n",
        "X_train = X_train / 255.0\n",
        "X_test = X_test / 255.0"
      ],
      "execution_count": 4,
      "outputs": []
    },
    {
      "cell_type": "code",
      "metadata": {
        "id": "wFw0akM99fKT",
        "colab_type": "code",
        "colab": {}
      },
      "source": [
        "X_train = X_train.flatten().reshape(X_train.shape[0], X_train.shape[1]*X_train.shape[2]*X_train.shape[3])\n",
        "X_test = X_test.flatten().reshape(X_test.shape[0],X_test.shape[1]*X_test.shape[2]*X_test.shape[3])"
      ],
      "execution_count": 5,
      "outputs": []
    },
    {
      "cell_type": "code",
      "metadata": {
        "id": "sUQggcEYWLs0",
        "colab_type": "code",
        "colab": {
          "base_uri": "https://localhost:8080/",
          "height": 578
        },
        "outputId": "4528f380-5434-4737-ba38-e2a8fd867144"
      },
      "source": [
        "# using svm for image classification\n",
        "svclassifier = SVC(kernel='rbf')\n",
        "print(\"Train model\")\n",
        "svclassifier.fit(X_train, Y_train.ravel())\n",
        "print(\"Compute predictions\")\n",
        "#predicting on test set\n",
        "y_pred = svclassifier.predict(X_test)\n",
        "# confusion matrix \n",
        "print(\"Confusion matrix:\")\n",
        "print(confusion_matrix(y_pred,Y_test.ravel()))\n",
        "# Classification report\n",
        "print(\"Classification report:\")\n",
        "print(classification_report(y_pred,Y_test.ravel()))\n",
        "#accuracy score  \n",
        "print(\"Accuracy Score:\")\n",
        "print(accuracy_score(y_pred, Y_test.ravel()))"
      ],
      "execution_count": 6,
      "outputs": [
        {
          "output_type": "stream",
          "text": [
            "Train model\n",
            "Compute predictions\n",
            "Confusion matrix:\n",
            "[[290  14  43  16  25  12   3  18  43  24]\n",
            " [ 10 285  14  20   6  12  10  14  38  76]\n",
            " [ 29  10 182  48  67  51  58  22  13   6]\n",
            " [ 11  24  43 171  31 102  41  49  18  26]\n",
            " [  8  10  67  37 204  32  51  52   9   5]\n",
            " [ 11   9  38  81  29 201  29  39  14  13]\n",
            " [ 12  10  56  70  75  44 289  28   7  10]\n",
            " [ 12  16  20  16  38  36  13 243  11  18]\n",
            " [ 95  30  15  20  10  15   7   5 312  26]\n",
            " [ 34  87  10  24   8   7   8  35  31 283]]\n",
            "Classification report:\n",
            "              precision    recall  f1-score   support\n",
            "\n",
            "           0       0.57      0.59      0.58       488\n",
            "           1       0.58      0.59      0.58       485\n",
            "           2       0.37      0.37      0.37       486\n",
            "           3       0.34      0.33      0.34       516\n",
            "           4       0.41      0.43      0.42       475\n",
            "           5       0.39      0.43      0.41       464\n",
            "           6       0.57      0.48      0.52       601\n",
            "           7       0.48      0.57      0.52       423\n",
            "           8       0.63      0.58      0.61       535\n",
            "           9       0.58      0.54      0.56       527\n",
            "\n",
            "    accuracy                           0.49      5000\n",
            "   macro avg       0.49      0.49      0.49      5000\n",
            "weighted avg       0.50      0.49      0.49      5000\n",
            "\n",
            "Accuracy Score:\n",
            "0.492\n"
          ],
          "name": "stdout"
        }
      ]
    },
    {
      "cell_type": "code",
      "metadata": {
        "id": "-sxV2rt3XyWj",
        "colab_type": "code",
        "colab": {}
      },
      "source": [
        "import keras\n",
        "import tensorflow\n",
        "from keras.datasets import cifar10 \n",
        "from keras.models import Sequential \n",
        "from keras.layers import Dense, Dropout, Flatten \n",
        "from keras.layers import Conv2D, MaxPooling2D\n",
        "from keras import backend as k\n",
        "import keras.utils \n",
        "import sklearn\n",
        "from sklearn.metrics import classification_report,confusion_matrix\n",
        "batch_size = 128\n",
        "num_classes = 10\n",
        "#epochs = 20\n"
      ],
      "execution_count": null,
      "outputs": []
    },
    {
      "cell_type": "code",
      "metadata": {
        "id": "YTeglQJAXxg3",
        "colab_type": "code",
        "colab": {}
      },
      "source": [
        "# input image dimensions\n",
        "img_rows, img_cols = 32, 32\n",
        "\n",
        "# the data, split between train and test sets\n",
        "(x_train, y_train), (x_test, y_test) = cifar10.load_data()"
      ],
      "execution_count": null,
      "outputs": []
    },
    {
      "cell_type": "code",
      "metadata": {
        "id": "XLMgSdNwXllI",
        "colab_type": "code",
        "colab": {
          "base_uri": "https://localhost:8080/",
          "height": 68
        },
        "outputId": "311cd2e5-fed8-4c3c-9f9e-70481402a984"
      },
      "source": [
        "# print the new label\n",
        "if k.image_data_format() == 'channels_first':\n",
        "    x_train = x_train.reshape(x_train.shape[0], 3, img_rows, img_cols)\n",
        "    x_test = x_test.reshape(x_test.shape[0], 3, img_rows, img_cols)\n",
        "    input_shape = (3, img_rows, img_cols)\n",
        "else:\n",
        "    x_train = x_train.reshape(x_train.shape[0], img_rows, img_cols, 3)\n",
        "    x_test = x_test.reshape(x_test.shape[0], img_rows, img_cols, 3)\n",
        "    input_shape = (img_rows, img_cols, 3)\n",
        "\n",
        "x_train = x_train.astype('float32')\n",
        "x_test = x_test.astype('float32')\n",
        "x_train /= 255\n",
        "x_test /= 255\n",
        "print('x_train shape:', x_train.shape)\n",
        "print(x_train.shape[0], 'train samples')\n",
        "print(x_test.shape[0], 'test samples')"
      ],
      "execution_count": null,
      "outputs": [
        {
          "output_type": "stream",
          "text": [
            "x_train shape: (50000, 32, 32, 3)\n",
            "50000 train samples\n",
            "10000 test samples\n"
          ],
          "name": "stdout"
        }
      ]
    },
    {
      "cell_type": "code",
      "metadata": {
        "id": "5xV-9rMUXrR_",
        "colab_type": "code",
        "colab": {}
      },
      "source": [
        "# convert class vectors to binary class matrices\n",
        "y_train = keras.utils.to_categorical(y_train, num_classes)\n",
        "y_test = keras.utils.to_categorical(y_test, num_classes)\n"
      ],
      "execution_count": null,
      "outputs": []
    },
    {
      "cell_type": "code",
      "metadata": {
        "id": "eKd8VrWRWK2L",
        "colab_type": "code",
        "colab": {
          "base_uri": "https://localhost:8080/",
          "height": 748
        },
        "outputId": "f07ba33b-76a3-4035-e0a4-35422da8ee0f"
      },
      "source": [
        "# Build the CNN model\n",
        "model = keras.models.Sequential()\n",
        "model = Sequential()\n",
        "model.add(Conv2D(32, kernel_size=(5, 5),activation='relu',input_shape=input_shape))\n",
        "model.add(Conv2D(64, (5, 5), activation='relu'))\n",
        "model.add(MaxPooling2D(pool_size=(2, 2)))\n",
        "model.add(Dropout(0.25))\n",
        "model.add(Flatten())\n",
        "model.add(Dense(128, activation='relu'))\n",
        "model.add(Dropout(0.5))\n",
        "model.add(Dense(num_classes, activation='softmax'))\n",
        "model.compile(loss=keras.losses.categorical_crossentropy,\n",
        "              optimizer=keras.optimizers.Adadelta(),\n",
        "              metrics=['accuracy'])\n",
        "model.fit(x_train, y_train, batch_size=batch_size,epochs=epochs,verbose=1,\n",
        "          validation_data=(x_test, y_test))\n",
        "score = model.evaluate(x_test, y_test, verbose=0)\n",
        "print('Test loss:', score[0])\n",
        "print('Test accuracy:', score[1])"
      ],
      "execution_count": null,
      "outputs": [
        {
          "output_type": "stream",
          "text": [
            "Train on 50000 samples, validate on 10000 samples\n",
            "Epoch 1/20\n",
            "50000/50000 [==============================] - 14s 286us/step - loss: 1.8296 - accuracy: 0.3366 - val_loss: 1.4332 - val_accuracy: 0.4928\n",
            "Epoch 2/20\n",
            "50000/50000 [==============================] - 8s 161us/step - loss: 1.4136 - accuracy: 0.5009 - val_loss: 1.2068 - val_accuracy: 0.5724\n",
            "Epoch 3/20\n",
            "50000/50000 [==============================] - 8s 162us/step - loss: 1.2247 - accuracy: 0.5713 - val_loss: 1.1258 - val_accuracy: 0.6019\n",
            "Epoch 4/20\n",
            "50000/50000 [==============================] - 8s 161us/step - loss: 1.1206 - accuracy: 0.6111 - val_loss: 1.0437 - val_accuracy: 0.6326\n",
            "Epoch 5/20\n",
            "50000/50000 [==============================] - 8s 161us/step - loss: 1.0373 - accuracy: 0.6366 - val_loss: 0.9446 - val_accuracy: 0.6695\n",
            "Epoch 6/20\n",
            "50000/50000 [==============================] - 8s 161us/step - loss: 0.9720 - accuracy: 0.6619 - val_loss: 1.0078 - val_accuracy: 0.6488\n",
            "Epoch 7/20\n",
            "50000/50000 [==============================] - 8s 161us/step - loss: 0.9168 - accuracy: 0.6808 - val_loss: 0.9096 - val_accuracy: 0.6909\n",
            "Epoch 8/20\n",
            "50000/50000 [==============================] - 8s 161us/step - loss: 0.8729 - accuracy: 0.6946 - val_loss: 0.9685 - val_accuracy: 0.6704\n",
            "Epoch 9/20\n",
            "50000/50000 [==============================] - 8s 161us/step - loss: 0.8308 - accuracy: 0.7111 - val_loss: 0.9180 - val_accuracy: 0.6795\n",
            "Epoch 10/20\n",
            "50000/50000 [==============================] - 8s 161us/step - loss: 0.7848 - accuracy: 0.7247 - val_loss: 0.9315 - val_accuracy: 0.6806\n",
            "Epoch 11/20\n",
            "50000/50000 [==============================] - 8s 161us/step - loss: 0.7568 - accuracy: 0.7351 - val_loss: 0.9023 - val_accuracy: 0.7024\n",
            "Epoch 12/20\n",
            "50000/50000 [==============================] - 8s 162us/step - loss: 0.7158 - accuracy: 0.7513 - val_loss: 0.8869 - val_accuracy: 0.7072\n",
            "Epoch 13/20\n",
            "50000/50000 [==============================] - 8s 161us/step - loss: 0.6895 - accuracy: 0.7583 - val_loss: 0.8905 - val_accuracy: 0.7033\n",
            "Epoch 14/20\n",
            "50000/50000 [==============================] - 8s 161us/step - loss: 0.6583 - accuracy: 0.7697 - val_loss: 1.0137 - val_accuracy: 0.6689\n",
            "Epoch 15/20\n",
            "50000/50000 [==============================] - 8s 161us/step - loss: 0.6406 - accuracy: 0.7757 - val_loss: 0.9222 - val_accuracy: 0.6980\n",
            "Epoch 16/20\n",
            "50000/50000 [==============================] - 8s 161us/step - loss: 0.6185 - accuracy: 0.7842 - val_loss: 0.9444 - val_accuracy: 0.6988\n",
            "Epoch 17/20\n",
            "50000/50000 [==============================] - 8s 161us/step - loss: 0.5963 - accuracy: 0.7901 - val_loss: 0.9896 - val_accuracy: 0.6942\n",
            "Epoch 18/20\n",
            "50000/50000 [==============================] - 8s 161us/step - loss: 0.5803 - accuracy: 0.7984 - val_loss: 0.9995 - val_accuracy: 0.7154\n",
            "Epoch 19/20\n",
            "50000/50000 [==============================] - 8s 160us/step - loss: 0.5672 - accuracy: 0.8001 - val_loss: 0.9343 - val_accuracy: 0.7114\n",
            "Epoch 20/20\n",
            "50000/50000 [==============================] - 8s 161us/step - loss: 0.5539 - accuracy: 0.8075 - val_loss: 0.9192 - val_accuracy: 0.6993\n",
            "Test loss: 0.9192151782989502\n",
            "Test accuracy: 0.6992999911308289\n"
          ],
          "name": "stdout"
        }
      ]
    }
  ]
}